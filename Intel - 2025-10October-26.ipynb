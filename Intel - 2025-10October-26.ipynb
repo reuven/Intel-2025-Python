{
 "cells": [
  {
   "cell_type": "markdown",
   "metadata": {},
   "source": [
    "# Agenda\n",
    "\n",
    "1. Fundamentals\n",
    "    - Values\n",
    "    - Variables\n",
    "    - Assignment\n",
    "    - Conditionals with `if` and `else`\n",
    "2. Data structures\n",
    "    - `None`\n",
    "    - `True` and `False`\n",
    "    - `int` and `float`\n",
    "    - Strings (`str`)\n",
    "    - Methods\n",
    "    - Loops (`for` and `while`)\n",
    "    - Lists\n",
    "    - Turning strings into lists and back\n",
    "    - Tuples "
   ]
  }
 ],
 "metadata": {
  "kernelspec": {
   "display_name": "Python 3 (ipykernel)",
   "language": "python",
   "name": "python3"
  },
  "language_info": {
   "codemirror_mode": {
    "name": "ipython",
    "version": 3
   },
   "file_extension": ".py",
   "mimetype": "text/x-python",
   "name": "python",
   "nbconvert_exporter": "python",
   "pygments_lexer": "ipython3",
   "version": "3.14.0"
  },
  "widgets": {
   "application/vnd.jupyter.widget-state+json": {
    "state": {},
    "version_major": 2,
    "version_minor": 0
   }
  }
 },
 "nbformat": 4,
 "nbformat_minor": 4
}
