{
 "cells": [
  {
   "cell_type": "markdown",
   "metadata": {},
   "source": [
    "# Agenda\n",
    "\n",
    "1. Fundamentals\n",
    "    - Values\n",
    "    - Variables\n",
    "    - Assignment\n",
    "    - Conditionals with `if` and `else`\n",
    "2. Data structures\n",
    "    - `None`\n",
    "    - `True` and `False`\n",
    "    - `int` and `float`\n",
    "    - Strings (`str`)\n",
    "    - Methods\n",
    "    - Loops (`for` and `while`)\n",
    "    - Lists\n",
    "    - Turning strings into lists and back\n",
    "    - Tuples\n",
    "    - Dictionaries (`dict`) and `set`\n",
    "    - Files\n",
    "3. Functions\n",
    "    - Defining functions\n",
    "    - Arguments and parameters\n",
    "    - Return values from functions\n",
    "    - Scoping (local vs. global variables)\n",
    "    - Function objects\n",
    "4. Comprehensions\n",
    "5. Modules\n",
    "6. Objects\n",
    "    - Classes\n",
    "    - Instances\n",
    "    - Attributes\n",
    "    - Methods\n",
    "7. Exceptions"
   ]
  },
  {
   "cell_type": "markdown",
   "metadata": {},
   "source": [
    "https://github.com/reuven/Intel-2025-Python/tree/main"
   ]
  },
  {
   "cell_type": "markdown",
   "metadata": {},
   "source": [
    "# Jupyter\n",
    "\n",
    "REPL -- read, eval, print loop\n",
    "\n"
   ]
  },
  {
   "cell_type": "code",
   "execution_count": 2,
   "metadata": {},
   "outputs": [
    {
     "name": "stdout",
     "output_type": "stream",
     "text": [
      "Hello, world!!!!\n"
     ]
    }
   ],
   "source": [
    "print('Hello, world!!!!')"
   ]
  },
  {
   "cell_type": "markdown",
   "metadata": {},
   "source": [
    "# Jupyter \n",
    "\n",
    "This is a cell. There are two modes for writing into a cell:\n",
    "\n",
    "- Edit mode (press `ENTER` or click inside of the cell). Everything I type goes into the cell.\n",
    "- Command mode (press `ESC` or click to the left of the cell). Everything I type is a Jupyter command.\n",
    "\n",
    "Commands:\n",
    "\n",
    "- `c` -- copy the current cell\n",
    "- `x` -- cut the current cell\n",
    "- `v` -- paste the recently copied/cut cell\n",
    "- `a` -- add a new cell above\n",
    "- `b` -- add a new cell below\n",
    "- `m` -- enter markdown mode for documentation\n",
    "- `y` -- enter Python mode for coding\n",
    "\n",
    "Shift+`ENTER` executes the cell."
   ]
  },
  {
   "cell_type": "code",
   "execution_count": 4,
   "metadata": {},
   "outputs": [
    {
     "name": "stdout",
     "output_type": "stream",
     "text": [
      "Hello, world!\n"
     ]
    }
   ],
   "source": [
    "# This is a comment\n",
    "# the function print -- we need to give () in order to execute the function\n",
    "# the argument here is a string\n",
    "\n",
    "print('Hello, world!')"
   ]
  },
  {
   "cell_type": "code",
   "execution_count": 5,
   "metadata": {},
   "outputs": [
    {
     "name": "stdout",
     "output_type": "stream",
     "text": [
      "3\n"
     ]
    }
   ],
   "source": [
    "print(3)"
   ]
  },
  {
   "cell_type": "code",
   "execution_count": 6,
   "metadata": {},
   "outputs": [
    {
     "name": "stdout",
     "output_type": "stream",
     "text": [
      "9\n"
     ]
    }
   ],
   "source": [
    "print(4+5)"
   ]
  },
  {
   "cell_type": "code",
   "execution_count": 7,
   "metadata": {},
   "outputs": [
    {
     "name": "stdout",
     "output_type": "stream",
     "text": [
      "9\n"
     ]
    }
   ],
   "source": [
    "x = 4\n",
    "y = 5\n",
    "\n",
    "print(x + y)"
   ]
  },
  {
   "cell_type": "markdown",
   "metadata": {},
   "source": [
    "# Assignment\n",
    "\n",
    "Assignment is done with `=`. If the variable doesn't yet exist, we create it with assignment. If it does exist, then the old value is gone."
   ]
  },
  {
   "cell_type": "code",
   "execution_count": 8,
   "metadata": {},
   "outputs": [
    {
     "name": "stdout",
     "output_type": "stream",
     "text": [
      "abcdefgh\n"
     ]
    }
   ],
   "source": [
    "x = 'abcd'\n",
    "y = 'efgh'\n",
    "\n",
    "print(x + y)"
   ]
  },
  {
   "cell_type": "markdown",
   "metadata": {},
   "source": [
    "# The `input` function\n",
    "\n",
    "`input` gets a single argument, and waits for the user. What the user types is returned as a string."
   ]
  },
  {
   "cell_type": "code",
   "execution_count": 9,
   "metadata": {},
   "outputs": [
    {
     "name": "stdin",
     "output_type": "stream",
     "text": [
      "Enter your name:  Reuven\n"
     ]
    },
    {
     "data": {
      "text/plain": [
       "'Reuven'"
      ]
     },
     "execution_count": 9,
     "metadata": {},
     "output_type": "execute_result"
    }
   ],
   "source": [
    "input('Enter your name: ')"
   ]
  },
  {
   "cell_type": "code",
   "execution_count": 10,
   "metadata": {},
   "outputs": [
    {
     "data": {
      "text/plain": [
       "'abcd'"
      ]
     },
     "execution_count": 10,
     "metadata": {},
     "output_type": "execute_result"
    }
   ],
   "source": [
    "x"
   ]
  },
  {
   "cell_type": "code",
   "execution_count": 11,
   "metadata": {},
   "outputs": [
    {
     "name": "stdin",
     "output_type": "stream",
     "text": [
      "Enter your name:  Reuven\n"
     ]
    },
    {
     "name": "stdout",
     "output_type": "stream",
     "text": [
      "Hello, Reuven.\n"
     ]
    }
   ],
   "source": [
    "# right side before left in assignment!\n",
    "\n",
    "name = input('Enter your name: ')\n",
    "print('Hello, ' + name + '.')"
   ]
  },
  {
   "cell_type": "code",
   "execution_count": 12,
   "metadata": {},
   "outputs": [
    {
     "ename": "TypeError",
     "evalue": "unsupported operand type(s) for +: 'int' and 'str'",
     "output_type": "error",
     "traceback": [
      "\u001b[31m---------------------------------------------------------------------------\u001b[39m",
      "\u001b[31mTypeError\u001b[39m                                 Traceback (most recent call last)",
      "\u001b[36mCell\u001b[39m\u001b[36m \u001b[39m\u001b[32mIn[12]\u001b[39m\u001b[32m, line 4\u001b[39m\n\u001b[32m      1\u001b[39m x = \u001b[32m123\u001b[39m\n\u001b[32m      2\u001b[39m y = \u001b[33m'\u001b[39m\u001b[33m456\u001b[39m\u001b[33m'\u001b[39m\n\u001b[32m----> \u001b[39m\u001b[32m4\u001b[39m \u001b[43mx\u001b[49m\u001b[43m \u001b[49m\u001b[43m+\u001b[49m\u001b[43m \u001b[49m\u001b[43my\u001b[49m\n\u001b[32m      6\u001b[39m \u001b[38;5;66;03m# a. treat them both as integers, and get an int\u001b[39;00m\n\u001b[32m      7\u001b[39m \u001b[38;5;66;03m# b. treat them both as strings, and get a string\u001b[39;00m\n\u001b[32m      8\u001b[39m \u001b[38;5;66;03m# c. get an error\u001b[39;00m\n",
      "\u001b[31mTypeError\u001b[39m: unsupported operand type(s) for +: 'int' and 'str'"
     ]
    }
   ],
   "source": [
    "x = 123\n",
    "y = '456'\n",
    "\n",
    "x + y\n",
    "\n",
    "# a. treat them both as integers, and get an int\n",
    "# b. treat them both as strings, and get a string\n",
    "# c. get an error"
   ]
  },
  {
   "cell_type": "markdown",
   "metadata": {},
   "source": [
    "DWIM -- do what I mean"
   ]
  },
  {
   "cell_type": "markdown",
   "metadata": {},
   "source": [
    "# Variable names\n",
    "\n",
    "1. Use lowercase letters and `_` and digits for variable names.\n",
    "2. Capital and lowercase letters are different!\n",
    "3. You cannot start a variable name with a digit.\n",
    "4. Don't start or end a variable name with `_`!"
   ]
  },
  {
   "cell_type": "code",
   "execution_count": null,
   "metadata": {},
   "outputs": [],
   "source": []
  }
 ],
 "metadata": {
  "kernelspec": {
   "display_name": "Python 3 (ipykernel)",
   "language": "python",
   "name": "python3"
  },
  "language_info": {
   "codemirror_mode": {
    "name": "ipython",
    "version": 3
   },
   "file_extension": ".py",
   "mimetype": "text/x-python",
   "name": "python",
   "nbconvert_exporter": "python",
   "pygments_lexer": "ipython3",
   "version": "3.14.0"
  },
  "widgets": {
   "application/vnd.jupyter.widget-state+json": {
    "state": {},
    "version_major": 2,
    "version_minor": 0
   }
  }
 },
 "nbformat": 4,
 "nbformat_minor": 4
}
