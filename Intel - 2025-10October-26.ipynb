{
 "cells": [
  {
   "cell_type": "markdown",
   "metadata": {},
   "source": [
    "# Agenda\n",
    "\n",
    "1. Fundamentals\n",
    "    - Values\n",
    "    - Variables\n",
    "    - Assignment\n",
    "    - Conditionals with `if` and `else`\n",
    "2. Data structures\n",
    "    - `None`\n",
    "    - `True` and `False`\n",
    "    - `int` and `float`\n",
    "    - Strings (`str`)\n",
    "    - Methods\n",
    "    - Loops (`for` and `while`)\n",
    "    - Lists\n",
    "    - Turning strings into lists and back\n",
    "    - Tuples\n",
    "    - Dictionaries (`dict`) and `set`\n",
    "    - Files\n",
    "3. Functions\n",
    "    - Defining functions\n",
    "    - Arguments and parameters\n",
    "    - Return values from functions\n",
    "    - Scoping (local vs. global variables)\n",
    "    - Function objects\n",
    "4. Comprehensions\n",
    "5. Modules\n",
    "6. Objects\n",
    "    - Classes\n",
    "    - Instances\n",
    "    - Attributes\n",
    "    - Methods\n",
    "7. Exceptions"
   ]
  },
  {
   "cell_type": "markdown",
   "metadata": {},
   "source": [
    "https://github.com/reuven/Intel-2025-Python/tree/main"
   ]
  },
  {
   "cell_type": "markdown",
   "metadata": {},
   "source": [
    "# Jupyter\n",
    "\n",
    "REPL -- read, eval, print loop\n",
    "\n"
   ]
  },
  {
   "cell_type": "code",
   "execution_count": 2,
   "metadata": {},
   "outputs": [
    {
     "name": "stdout",
     "output_type": "stream",
     "text": [
      "Hello, world!!!!\n"
     ]
    }
   ],
   "source": [
    "print('Hello, world!!!!')"
   ]
  },
  {
   "cell_type": "markdown",
   "metadata": {},
   "source": [
    "# Jupyter \n",
    "\n",
    "This is a cell. There are two modes for writing into a cell:\n",
    "\n",
    "- Edit mode (press `ENTER` or click inside of the cell). Everything I type goes into the cell.\n",
    "- Command mode (press `ESC` or click to the left of the cell). Everything I type is a Jupyter command.\n",
    "\n",
    "Commands:\n",
    "\n",
    "- `c` -- copy the current cell\n",
    "- `x` -- cut the current cell\n",
    "- `v` -- paste the recently copied/cut cell\n",
    "- `a` -- add a new cell above\n",
    "- `b` -- add a new cell below\n",
    "- `m` -- enter markdown mode for documentation\n",
    "- `y` -- enter Python mode for coding\n",
    "\n",
    "Shift+`ENTER` executes the cell."
   ]
  },
  {
   "cell_type": "code",
   "execution_count": 4,
   "metadata": {},
   "outputs": [
    {
     "name": "stdout",
     "output_type": "stream",
     "text": [
      "Hello, world!\n"
     ]
    }
   ],
   "source": [
    "# This is a comment\n",
    "# the function print -- we need to give () in order to execute the function\n",
    "# the argument here is a string\n",
    "\n",
    "print('Hello, world!')"
   ]
  },
  {
   "cell_type": "code",
   "execution_count": null,
   "metadata": {},
   "outputs": [],
   "source": []
  }
 ],
 "metadata": {
  "kernelspec": {
   "display_name": "Python 3 (ipykernel)",
   "language": "python",
   "name": "python3"
  },
  "language_info": {
   "codemirror_mode": {
    "name": "ipython",
    "version": 3
   },
   "file_extension": ".py",
   "mimetype": "text/x-python",
   "name": "python",
   "nbconvert_exporter": "python",
   "pygments_lexer": "ipython3",
   "version": "3.14.0"
  },
  "widgets": {
   "application/vnd.jupyter.widget-state+json": {
    "state": {},
    "version_major": 2,
    "version_minor": 0
   }
  }
 },
 "nbformat": 4,
 "nbformat_minor": 4
}
